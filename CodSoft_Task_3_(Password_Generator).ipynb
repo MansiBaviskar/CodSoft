{
  "nbformat": 4,
  "nbformat_minor": 0,
  "metadata": {
    "colab": {
      "provenance": []
    },
    "kernelspec": {
      "name": "python3",
      "display_name": "Python 3"
    },
    "language_info": {
      "name": "python"
    }
  },
  "cells": [
    {
      "cell_type": "code",
      "source": [
        "import random\n",
        "import string\n",
        "\n",
        "def pass_word(length, u_case = True, l_case = True, digits = True, at_symbols = True, all_symbols = False):\n",
        "    at_symbol = '@'\n",
        "    chars = ''\n",
        "\n",
        "    if u_case:\n",
        "        chars += string.ascii_uppercase\n",
        "\n",
        "    if l_case:\n",
        "        chars += string.ascii_lowercase\n",
        "\n",
        "    if digits:\n",
        "        chars += string.digits\n",
        "\n",
        "    if at_symbols:\n",
        "        chars += at_symbol\n",
        "\n",
        "    if all_symbols:\n",
        "        chars += string.punctuation\n",
        "\n",
        "    if not (u_case or l_case or digits or at_symbols or all_symbols):\n",
        "        print(\"Please select at least one character type.\")\n",
        "        return None\n",
        "\n",
        "    password = ''.join(random.choice(chars) for _ in range(length))\n",
        "\n",
        "    if at_symbols and '@' not in password:\n",
        "        password = password[:random.randint(0, len(password) - 1)] + '@' + password[random.randint(0, len(password) - 1):]\n",
        "\n",
        "    return password\n",
        "\n",
        "def main():\n",
        "  print('*' * 45)\n",
        "  print('WELCOME TO PASSWORD GENERATOR......:)'.center(45))\n",
        "  print('*' * 45)\n",
        "  while True:\n",
        "    length = int(input(\"Enter Length of Password : \"))\n",
        "    if length <= 0 :\n",
        "      print(\"Enter Positive Number.....\")\n",
        "      continue\n",
        "    else:\n",
        "      break\n",
        "\n",
        "  print('COMPLEXITY CHOICE.....')\n",
        "  uppercase = input('Include UPPERCASE Letters? (y/n): ').lower() == 'y'\n",
        "  lowercase = input('Include LOWERCASE Letters? (y/n): ').lower() == 'y'\n",
        "  digits = input('Include DIGITS? (y/n): ').lower() == 'y'\n",
        "  at_symbol = input('Include \"@\"? (y/n): ').lower() == 'y'\n",
        "  all_symbols = input('Include ALL SYMBOLS? (y/n): ').lower() == 'y'\n",
        "\n",
        "  generated_password = pass_word(length, uppercase, lowercase, digits, at_symbol, all_symbols)\n",
        "\n",
        "  if generated_password:\n",
        "    print(\"\\n\\nThe Generated Password Is: {}\".format(generated_password))\n",
        "  else:\n",
        "    print(\"Password generation failed.\")\n",
        "\n",
        "if __name__ == '__main__':\n",
        "    main()\n"
      ],
      "metadata": {
        "colab": {
          "base_uri": "https://localhost:8080/"
        },
        "id": "yQxkTsxVLMpJ",
        "outputId": "02d3f68d-900e-4044-bbd4-1cfb713567b9"
      },
      "execution_count": null,
      "outputs": [
        {
          "output_type": "stream",
          "name": "stdout",
          "text": [
            "*********************************************\n",
            "    WELCOME TO PASSWORD GENERATOR......:)    \n",
            "*********************************************\n",
            "Enter Length of Password : -10\n",
            "Enter Positive Number.....\n",
            "Enter Length of Password : 10\n",
            "COMPLEXITY CHOICE.....\n",
            "Include UPPERCASE Letters? (y/n): y\n",
            "Include LOWERCASE Letters? (y/n): Y\n",
            "Include DIGITS? (y/n): Y\n",
            "Include \"@\"? (y/n): y\n",
            "Include ALL SYMBOLS? (y/n): y\n",
            "\n",
            "\n",
            "The Generated Password Is: /}(7^D#O?@\n"
          ]
        }
      ]
    },
    {
      "cell_type": "code",
      "source": [
        "main()"
      ],
      "metadata": {
        "colab": {
          "base_uri": "https://localhost:8080/"
        },
        "id": "MgEukRqFM5X1",
        "outputId": "eb826555-901c-40ff-b4d8-10bca8ee6938"
      },
      "execution_count": null,
      "outputs": [
        {
          "output_type": "stream",
          "name": "stdout",
          "text": [
            "*********************************************\n",
            "    WELCOME TO PASSWORD GENERATOR......:)    \n",
            "*********************************************\n",
            "Enter Length of Password : 30\n",
            "COMPLEXITY CHOICE.....\n",
            "Include UPPERCASE Letters? (y/n): n\n",
            "Include LOWERCASE Letters? (y/n): n\n",
            "Include DIGITS? (y/n): N\n",
            "Include \"@\"? (y/n): n\n",
            "Include ALL SYMBOLS? (y/n): n\n",
            "Please select at least one character type.\n",
            "Password generation failed.\n"
          ]
        }
      ]
    },
    {
      "cell_type": "code",
      "source": [
        "main()"
      ],
      "metadata": {
        "colab": {
          "base_uri": "https://localhost:8080/"
        },
        "id": "AIB4yVnXNAgd",
        "outputId": "9773f112-301a-4aee-ae8c-130544bcba97"
      },
      "execution_count": null,
      "outputs": [
        {
          "output_type": "stream",
          "name": "stdout",
          "text": [
            "*********************************************\n",
            "    WELCOME TO PASSWORD GENERATOR......:)    \n",
            "*********************************************\n",
            "Enter Length of Password : 24\n",
            "COMPLEXITY CHOICE.....\n",
            "Include UPPERCASE Letters? (y/n): n\n",
            "Include LOWERCASE Letters? (y/n): y\n",
            "Include DIGITS? (y/n): n\n",
            "Include \"@\"? (y/n): n\n",
            "Include ALL SYMBOLS? (y/n): n\n",
            "\n",
            "\n",
            "The Generated Password Is: hrzhdzutngydktyrtrdabhku\n"
          ]
        }
      ]
    },
    {
      "cell_type": "code",
      "source": [],
      "metadata": {
        "id": "AzO2JS9lNGuS"
      },
      "execution_count": null,
      "outputs": []
    }
  ]
}