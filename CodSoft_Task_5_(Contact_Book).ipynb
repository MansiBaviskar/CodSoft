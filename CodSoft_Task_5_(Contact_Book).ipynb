{
  "nbformat": 4,
  "nbformat_minor": 0,
  "metadata": {
    "colab": {
      "provenance": []
    },
    "kernelspec": {
      "name": "python3",
      "display_name": "Python 3"
    },
    "language_info": {
      "name": "python"
    }
  },
  "cells": [
    {
      "cell_type": "code",
      "source": [
        "with open('contacts.txt','w') as file:\n",
        "  file.writelines('''abc, abc@gmail.com, 9921668254\n",
        "xyz, xyz@gmail.com, 8806807004\n",
        "lnm, lmn@gmail.com, 987654321''')"
      ],
      "metadata": {
        "id": "bpaqyqRLKosS"
      },
      "execution_count": null,
      "outputs": []
    },
    {
      "cell_type": "code",
      "source": [
        "import re"
      ],
      "metadata": {
        "id": "ojMz4VTDKtbY"
      },
      "execution_count": null,
      "outputs": []
    },
    {
      "cell_type": "code",
      "source": [
        "def show():\n",
        "  with open('contacts.txt', 'r') as file:\n",
        "    file.seek(0)\n",
        "    a = []\n",
        "    contact = file.read().split('\\n')\n",
        "    for i in contact:\n",
        "      a.append(i.split(','))\n",
        "    print('CONTACT LIST'.center(20))\n",
        "    for i in a:\n",
        "      if i:\n",
        "        print(i[0])"
      ],
      "metadata": {
        "id": "N9ZribHpKwLn"
      },
      "execution_count": null,
      "outputs": []
    },
    {
      "cell_type": "code",
      "source": [
        "def add():\n",
        "  addd = ''\n",
        "  name = input('Enter Name: ')\n",
        "  addd += ('\\n' + name + ', ')\n",
        "\n",
        "  while True:\n",
        "    email_in = input('Enter Email ID: ')\n",
        "    a = (True if re.match(r'\\w+@gmail.com', email_in) else False)\n",
        "    if a:\n",
        "      break\n",
        "    else:\n",
        "      print('INVALID....ENTER AGAIN......')\n",
        "    addd += (email_in + ', ')\n",
        "\n",
        "  while True:\n",
        "    number = int(input('Enter Number: '))\n",
        "    a = (True if re.match(r'\\d{10}', str(number)) else False)\n",
        "    if a:\n",
        "      break\n",
        "    else:\n",
        "      print('INVALID....ENTER AGAIN......')\n",
        "\n",
        "  addd += (' ' + str(number))\n",
        "  with open('contacts.txt', 'a') as file:\n",
        "    file.write(addd)\n",
        "    print('Added Successfully....')"
      ],
      "metadata": {
        "id": "v6zpS3XcKwJo"
      },
      "execution_count": null,
      "outputs": []
    },
    {
      "cell_type": "code",
      "source": [
        "def delete(name):\n",
        "  with open('contacts.txt', 'r') as file:\n",
        "    file.seek(0)\n",
        "    a = []\n",
        "    contact = file.read().split('\\n')\n",
        "    for i in contact:\n",
        "      a.append(i.split(','))\n",
        "      updated_contacts = []\n",
        "      found = False\n",
        "    for contact_info in a:\n",
        "      if contact_info and contact_info[0] == name:\n",
        "        found = True\n",
        "      else:\n",
        "        updated_contacts.append(contact_info)\n",
        "\n",
        "    if not found:\n",
        "      print('Contact not found!')\n",
        "      return\n",
        "\n",
        "    b = []\n",
        "    for i in updated_contacts:\n",
        "      if i and len(i) >= 3:\n",
        "        b.append(', '.join([i[0], i[1], i[2]]) + '\\n')\n",
        "    c = ''.join(b)\n",
        "\n",
        "  with open('contacts.txt', 'w') as file:\n",
        "    file.write(c)\n"
      ],
      "metadata": {
        "id": "A81A5AwmKwHm"
      },
      "execution_count": null,
      "outputs": []
    },
    {
      "cell_type": "code",
      "source": [
        "def update(name):\n",
        "    with open('contacts.txt', 'r') as file:\n",
        "        file.seek(0)\n",
        "        z = []\n",
        "        contact = file.read().split('\\n')\n",
        "        for i in contact:\n",
        "            z.append(i.split(','))\n",
        "\n",
        "        found = False\n",
        "        for i in z:\n",
        "            if i and i[0] == name:\n",
        "                name1 = input('ENTER NEW NAME: ')\n",
        "                while True:\n",
        "                    email_in = input('Enter New Email ID: ')\n",
        "                    a = (True if re.match(r'\\w+@gmail.com', email_in) else False)\n",
        "                    if a:\n",
        "                        break\n",
        "                    else:\n",
        "                        print('INVALID....ENTER AGAIN......')\n",
        "                while True:\n",
        "                    number = int(input('Enter New Number: '))\n",
        "                    a = (True if re.match(r'\\d{10}', str(number)) else False)\n",
        "                    if a:\n",
        "                        break\n",
        "                    else:\n",
        "                        print('INVALID....ENTER AGAIN......')\n",
        "                i[0] = name1\n",
        "                i[1] = email_in\n",
        "                i[2] = str(number)\n",
        "                found = True\n",
        "\n",
        "        if not found:\n",
        "            print('Contact not found!')\n",
        "            return\n",
        "\n",
        "        b = []\n",
        "        for i in z:\n",
        "            if i:\n",
        "                b.append(', '.join([i[0], i[1], i[2]]) + '\\n')\n",
        "\n",
        "        c = ''.join(b)\n",
        "\n",
        "    with open('contacts.txt', 'w') as file:\n",
        "        file.write(c)\n"
      ],
      "metadata": {
        "id": "f9YaHBseKwFk"
      },
      "execution_count": null,
      "outputs": []
    },
    {
      "cell_type": "code",
      "source": [
        "\n",
        "def open_contact():\n",
        "  name = input('Enter Name to open contact: ')\n",
        "  with open('contacts.txt', 'r') as file:\n",
        "    file.seek(0)\n",
        "    a = []\n",
        "    contact = file.read().split('\\n')\n",
        "    for i in contact:\n",
        "      a.append(i.split(','))\n",
        "\n",
        "    for i in a:\n",
        "      if i and i[0] == name:\n",
        "        print('Contact Details:')\n",
        "        print(f'Name: {i[0]}')\n",
        "        print(f'Email: {i[1]}')\n",
        "        print(f'Number: {i[2]}')\n",
        "        return i[0]\n",
        "\n",
        "    print('No match found!')\n",
        "    return None\n",
        "\n"
      ],
      "metadata": {
        "id": "qv7HHvtFKwDR"
      },
      "execution_count": null,
      "outputs": []
    },
    {
      "cell_type": "code",
      "source": [
        "# Menu-driven code\n",
        "while True:\n",
        "    print('\\nMENU')\n",
        "    print('1. Show Contacts')\n",
        "    print('2. Add Contact')\n",
        "    print('3. Open Contact')\n",
        "    print('4. Exit')\n",
        "    choice = input('Enter your choice: ')\n",
        "\n",
        "    if choice == '1':\n",
        "        show()\n",
        "    elif choice == '2':\n",
        "        add()\n",
        "    elif choice == '3':\n",
        "        # name = input('Enter Name to open contact: ')\n",
        "        result = open_contact()\n",
        "        if result:\n",
        "            print('1. Update Contact')\n",
        "            print('2. Delete Contact')\n",
        "            print('3. Back to Main Menu')\n",
        "            sub_choice = input('Enter your choice: ')\n",
        "            if sub_choice == '1':\n",
        "                update(result)\n",
        "                print('Contact updated successfully!')\n",
        "            elif sub_choice == '2':\n",
        "                delete(result)\n",
        "                print('Contact deleted successfully!')\n",
        "            elif sub_choice == '3':\n",
        "                pass\n",
        "            else:\n",
        "                print('Invalid choice. Returning to the main menu.')\n",
        "        else:\n",
        "            print('Returning to the main menu.')\n",
        "    elif choice == '4':\n",
        "        print('Exiting...')\n",
        "        break\n",
        "    else:\n",
        "        print('Invalid choice. Please try again.')"
      ],
      "metadata": {
        "colab": {
          "base_uri": "https://localhost:8080/"
        },
        "id": "m35hTd8EKwAq",
        "outputId": "7c4df260-2e41-434f-f617-bb2f368671c0"
      },
      "execution_count": null,
      "outputs": [
        {
          "output_type": "stream",
          "name": "stdout",
          "text": [
            "\n",
            "MENU\n",
            "1. Show Contacts\n",
            "2. Add Contact\n",
            "3. Open Contact\n",
            "4. Exit\n",
            "Enter your choice: 1\n",
            "    CONTACT LIST    \n",
            "abc\n",
            "xyz\n",
            "lnm\n",
            "\n",
            "MENU\n",
            "1. Show Contacts\n",
            "2. Add Contact\n",
            "3. Open Contact\n",
            "4. Exit\n",
            "Enter your choice: 3\n",
            "Enter Name to open contact: abc\n",
            "Contact Details:\n",
            "Name: abc\n",
            "Email:  abc@gmail.com\n",
            "Number:  9921668254\n",
            "1. Update Contact\n",
            "2. Delete Contact\n",
            "3. Back to Main Menu\n",
            "Enter your choice: 1\n",
            "ENTER NEW NAME: abcd\n",
            "Enter New Email ID: abcd@gmail.com\n",
            "Enter New Number: 6789098765\n",
            "Contact updated successfully!\n",
            "\n",
            "MENU\n",
            "1. Show Contacts\n",
            "2. Add Contact\n",
            "3. Open Contact\n",
            "4. Exit\n",
            "Enter your choice: 3\n",
            "Enter Name to open contact: abcd\n",
            "Contact Details:\n",
            "Name: abcd\n",
            "Email:  abcd@gmail.com\n",
            "Number:  6789098765\n",
            "1. Update Contact\n",
            "2. Delete Contact\n",
            "3. Back to Main Menu\n",
            "Enter your choice: 2\n",
            "Contact deleted successfully!\n",
            "\n",
            "MENU\n",
            "1. Show Contacts\n",
            "2. Add Contact\n",
            "3. Open Contact\n",
            "4. Exit\n",
            "Enter your choice: 1\n",
            "    CONTACT LIST    \n",
            "xyz\n",
            "lnm\n",
            "\n",
            "\n",
            "MENU\n",
            "1. Show Contacts\n",
            "2. Add Contact\n",
            "3. Open Contact\n",
            "4. Exit\n",
            "Enter your choice: 2\n",
            "Enter Name: abcde\n",
            "Enter Email ID: abcde123@gmail.com\n",
            "Enter Number: 4567689790\n",
            "Added Successfully....\n",
            "\n",
            "MENU\n",
            "1. Show Contacts\n",
            "2. Add Contact\n",
            "3. Open Contact\n",
            "4. Exit\n",
            "Enter your choice: 1\n",
            "    CONTACT LIST    \n",
            "xyz\n",
            "lnm\n",
            "\n",
            "abcde\n",
            "\n",
            "MENU\n",
            "1. Show Contacts\n",
            "2. Add Contact\n",
            "3. Open Contact\n",
            "4. Exit\n",
            "Enter your choice: 4\n",
            "Exiting...\n"
          ]
        }
      ]
    },
    {
      "cell_type": "code",
      "source": [],
      "metadata": {
        "id": "TrGJsDI1Kv-C"
      },
      "execution_count": null,
      "outputs": []
    },
    {
      "cell_type": "code",
      "source": [],
      "metadata": {
        "id": "ZnU38m5hKvm0"
      },
      "execution_count": null,
      "outputs": []
    }
  ]
}